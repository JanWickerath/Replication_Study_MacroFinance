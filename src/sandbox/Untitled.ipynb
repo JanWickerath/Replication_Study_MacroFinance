{
 "cells": [
  {
   "cell_type": "code",
   "execution_count": 5,
   "metadata": {
    "collapsed": false
   },
   "outputs": [],
   "source": [
    "% path_original_data = project_paths('IN_DATA');\n",
    "path_original_data = '../original_data/';\n",
    "\n",
    "path_financial_accounts = strcat(path_original_data, ...\n",
    "                                 'Financial_accounts_original.csv');\n",
    "path_business_gdp = strcat(path_original_data, ...\n",
    "                           'business_value_added_nipa_original.csv');"
   ]
  },
  {
   "cell_type": "code",
   "execution_count": 13,
   "metadata": {
    "collapsed": false
   },
   "outputs": [
    {
     "name": "stdout",
     "output_type": "stream",
     "text": [
      "ans =\n",
      "\n",
      "   255     1\n",
      "\n",
      "\n",
      "ans =\n",
      "\n",
      "   255     1\n"
     ]
    }
   ],
   "source": [
    "financial_accounts_original = csvread(path_financial_accounts, 6, 1);\n",
    "corporate_equities = financial_accounts_original(:, 1);\n",
    "corporate_dividends = financial_accounts_original(:, 2);\n",
    "farm_dividends = financial_accounts_original(:, 3);\n",
    "prop_invest = financial_accounts_original(:, 4);\n",
    "corporate_debt = financial_accounts_original(:, 5);\n",
    "corporate_capital_consumption = financial_accounts_original(:, 6);\n",
    "noncorporate_capital_consumption = financial_accounts_original(:, 7);\n",
    "capital_expenditures = financial_accounts_original(:, 8);\n",
    "business_gdp = (csvread(path_business_gdp, 7, 2, 'C8..IW8'))';\n",
    "size(business_gdp)\n",
    "size(capital_expenditures)"
   ]
  },
  {
   "cell_type": "code",
   "execution_count": 14,
   "metadata": {
    "collapsed": false
   },
   "outputs": [
    {
     "name": "stdout",
     "output_type": "stream",
     "text": [
      "equity_payout = \n",
      "\n",
      "    full_sample: [255x1 double]\n"
     ]
    }
   ],
   "source": [
    "% Equity Payout is calculated as net dividends farm and nonfarm sector minus\n",
    "% net increase in corporate equitiesminus proprietors’ net investment and\n",
    "% normalized by Business GDP times 10 (to meet scale in the paper).\n",
    "equity_payout.full_sample = (corporate_dividends + farm_dividends - corporate_equities - prop_invest)./(business_gdp * 10)"
   ]
  },
  {
   "cell_type": "code",
   "execution_count": 17,
   "metadata": {
    "collapsed": false
   },
   "outputs": [
    {
     "name": "stdout",
     "output_type": "stream",
     "text": [
      "debt_repurchase = \n",
      "\n",
      "    full_sample: [255x1 double]\n"
     ]
    }
   ],
   "source": [
    "debt_repurchase.full_sample = (- corporate_debt)./(business_gdp * 10)"
   ]
  },
  {
   "cell_type": "code",
   "execution_count": 22,
   "metadata": {
    "collapsed": false
   },
   "outputs": [
    {
     "name": "stdout",
     "output_type": "stream",
     "text": [
      "timeline = \n",
      "\n",
      "    full_sample: [1x255 double]\n",
      "\n",
      "\n",
      "ans =\n",
      "\n",
      "   1.0e+03 *\n",
      "\n",
      "  Columns 1 through 7\n",
      "\n",
      "    1.9520    1.9523    1.9525    1.9527    1.9530    1.9532    1.9535\n",
      "\n",
      "  Columns 8 through 14\n",
      "\n",
      "    1.9538    1.9540    1.9543    1.9545    1.9547    1.9550    1.9552\n",
      "\n",
      "  Columns 15 through 21\n",
      "\n",
      "    1.9555    1.9558    1.9560    1.9563    1.9565    1.9567    1.9570\n",
      "\n",
      "  Columns 22 through 28\n",
      "\n",
      "    1.9572    1.9575    1.9578    1.9580    1.9583    1.9585    1.9587\n",
      "\n",
      "  Columns 29 through 35\n",
      "\n",
      "    1.9590    1.9592    1.9595    1.9598    1.9600    1.9603    1.9605\n",
      "\n",
      "  Columns 36 through 42\n",
      "\n",
      "    1.9607    1.9610    1.9612    1.9615    1.9618    1.9620    1.9623\n",
      "\n",
      "  Columns 43 through 49\n",
      "\n",
      "    1.9625    1.9627    1.9630    1.9632    1.9635    1.9638    1.9640\n",
      "\n",
      "  Columns 50 through 56\n",
      "\n",
      "    1.9643    1.9645    1.9647    1.9650    1.9652    1.9655    1.9658\n",
      "\n",
      "  Columns 57 through 63\n",
      "\n",
      "    1.9660    1.9663    1.9665    1.9667    1.9670    1.9672    1.9675\n",
      "\n",
      "  Columns 64 through 70\n",
      "\n",
      "    1.9678    1.9680    1.9683    1.9685    1.9688    1.9690    1.9692\n",
      "\n",
      "  Columns 71 through 77\n",
      "\n",
      "    1.9695    1.9697    1.9700    1.9703    1.9705    1.9708    1.9710\n",
      "\n",
      "  Columns 78 through 84\n",
      "\n",
      "    1.9712    1.9715    1.9717    1.9720    1.9723    1.9725    1.9728\n",
      "\n",
      "  Columns 85 through 91\n",
      "\n",
      "    1.9730    1.9732    1.9735    1.9737    1.9740    1.9743    1.9745\n",
      "\n",
      "  Columns 92 through 98\n",
      "\n",
      "    1.9748    1.9750    1.9752    1.9755    1.9757    1.9760    1.9763\n",
      "\n",
      "  Columns 99 through 105\n",
      "\n",
      "    1.9765    1.9768    1.9770    1.9772    1.9775    1.9777    1.9780\n",
      "\n",
      "  Columns 106 through 112\n",
      "\n",
      "    1.9783    1.9785    1.9788    1.9790    1.9792    1.9795    1.9797\n",
      "\n",
      "  Columns 113 through 119\n",
      "\n",
      "    1.9800    1.9803    1.9805    1.9808    1.9810    1.9812    1.9815\n",
      "\n",
      "  Columns 120 through 126\n",
      "\n",
      "    1.9817    1.9820    1.9823    1.9825    1.9828    1.9830    1.9832\n",
      "\n",
      "  Columns 127 through 133\n",
      "\n",
      "    1.9835    1.9837    1.9840    1.9843    1.9845    1.9848    1.9850\n",
      "\n",
      "  Columns 134 through 140\n",
      "\n",
      "    1.9852    1.9855    1.9857    1.9860    1.9863    1.9865    1.9868\n",
      "\n",
      "  Columns 141 through 147\n",
      "\n",
      "    1.9870    1.9872    1.9875    1.9877    1.9880    1.9883    1.9885\n",
      "\n",
      "  Columns 148 through 154\n",
      "\n",
      "    1.9888    1.9890    1.9892    1.9895    1.9897    1.9900    1.9903\n",
      "\n",
      "  Columns 155 through 161\n",
      "\n",
      "    1.9905    1.9908    1.9910    1.9912    1.9915    1.9917    1.9920\n",
      "\n",
      "  Columns 162 through 168\n",
      "\n",
      "    1.9923    1.9925    1.9928    1.9930    1.9932    1.9935    1.9937\n",
      "\n",
      "  Columns 169 through 175\n",
      "\n",
      "    1.9940    1.9943    1.9945    1.9948    1.9950    1.9952    1.9955\n",
      "\n",
      "  Columns 176 through 182\n",
      "\n",
      "    1.9957    1.9960    1.9963    1.9965    1.9968    1.9970    1.9972\n",
      "\n",
      "  Columns 183 through 189\n",
      "\n",
      "    1.9975    1.9977    1.9980    1.9983    1.9985    1.9988    1.9990\n",
      "\n",
      "  Columns 190 through 196\n",
      "\n",
      "    1.9992    1.9995    1.9997    2.0000    2.0002    2.0005    2.0008\n",
      "\n",
      "  Columns 197 through 203\n",
      "\n",
      "    2.0010    2.0013    2.0015    2.0017    2.0020    2.0023    2.0025\n",
      "\n",
      "  Columns 204 through 210\n",
      "\n",
      "    2.0027    2.0030    2.0032    2.0035    2.0038    2.0040    2.0042\n",
      "\n",
      "  Columns 211 through 217\n",
      "\n",
      "    2.0045    2.0048    2.0050    2.0053    2.0055    2.0057    2.0060\n",
      "\n",
      "  Columns 218 through 224\n",
      "\n",
      "    2.0063    2.0065    2.0067    2.0070    2.0072    2.0075    2.0078\n",
      "\n",
      "  Columns 225 through 231\n",
      "\n",
      "    2.0080    2.0082    2.0085    2.0088    2.0090    2.0093    2.0095\n",
      "\n",
      "  Columns 232 through 238\n",
      "\n",
      "    2.0097    2.0100    2.0103    2.0105    2.0107    2.0110    2.0112\n",
      "\n",
      "  Columns 239 through 245\n",
      "\n",
      "    2.0115    2.0118    2.0120    2.0122    2.0125    2.0128    2.0130\n",
      "\n",
      "  Columns 246 through 252\n",
      "\n",
      "    2.0133    2.0135    2.0137    2.0140    2.0143    2.0145    2.0147\n",
      "\n",
      "  Columns 253 through 255\n",
      "\n",
      "    2.0150    2.0152    2.0155\n"
     ]
    }
   ],
   "source": [
    "timeline.full_sample = 1952:0.25:2015.5\n",
    "timeline.full_sample"
   ]
  },
  {
   "cell_type": "code",
   "execution_count": 23,
   "metadata": {
    "collapsed": false
   },
   "outputs": [
    {
     "data": {
      "image/png": "[encoded data removed]",
      "text/plain": [
       "<IPython.core.display.Image object>"
      ]
     },
     "metadata": {},
     "output_type": "display_data"
    }
   ],
   "source": [
    "figure\n",
    "plot(timeline.full_sample, equity_payout.full_sample)\n",
    "hold on\n",
    "plot(timeline.full_sample, debt_repurchase.full_sample)"
   ]
  },
  {
   "cell_type": "code",
   "execution_count": null,
   "metadata": {
    "collapsed": true
   },
   "outputs": [],
   "source": []
  }
 ],
 "metadata": {
  "kernelspec": {
   "display_name": "Matlab",
   "language": "matlab",
   "name": "matlab"
  },
  "language_info": {
   "codemirror_mode": "octave",
   "file_extension": ".m",
   "help_links": [
    {
     "text": "MetaKernel Magics",
     "url": "https://github.com/calysto/metakernel/blob/master/metakernel/magics/README.md"
    }
   ],
   "mimetype": "text/x-matlab",
   "name": "matlab",
   "version": "0.8.0"
  }
 },
 "nbformat": 4,
 "nbformat_minor": 0
}
